{
  "metadata": {
    "kernelspec": {
      "language": "python",
      "display_name": "Python 3",
      "name": "python3"
    },
    "language_info": {
      "name": "python",
      "version": "3.10.13",
      "mimetype": "text/x-python",
      "codemirror_mode": {
        "name": "ipython",
        "version": 3
      },
      "pygments_lexer": "ipython3",
      "nbconvert_exporter": "python",
      "file_extension": ".py"
    },
    "kaggle": {
      "accelerator": "none",
      "dataSources": [],
      "dockerImageVersionId": 30698,
      "isInternetEnabled": true,
      "language": "python",
      "sourceType": "notebook",
      "isGpuEnabled": false
    },
    "colab": {
      "provenance": []
    }
  },
  "nbformat_minor": 0,
  "nbformat": 4,
  "cells": [
    {
      "cell_type": "code",
      "source": [
        "import torch\n",
        "import torch.nn as nn\n",
        "import torch.optim as optim\n",
        "from torch.optim.lr_scheduler import ReduceLROnPlateau\n",
        "import torchvision\n",
        "import torchvision.transforms as transforms\n",
        "from torch.utils.data import DataLoader\n",
        "from tqdm import tqdm\n",
        "import KAN\n",
        "\n",
        "# Load MNIST\n",
        "transform = transforms.Compose([transforms.ToTensor(), transforms.Normalize((0.5,), (0.5,))])\n",
        "trainset = torchvision.datasets.MNIST(root=\"./data\", train=True, download=True, transform=transform)\n",
        "valset = torchvision.datasets.MNIST(root=\"./data\", train=False, download=True, transform=transform)\n",
        "trainloader = DataLoader(trainset, batch_size=64, shuffle=True)\n",
        "valloader = DataLoader(valset, batch_size=64, shuffle=False)\n",
        "\n",
        "# Define model\n",
        "model = KAN([28 * 28, 64, 10])\n",
        "device = torch.device(\"cuda\" if torch.cuda.is_available() else \"cpu\")\n",
        "model.to(device)\n",
        "\n",
        "# Define optimizer\n",
        "optimizer = optim.AdamW(model.parameters(), lr=1e-3)\n",
        "\n",
        "# Define loss\n",
        "criterion = nn.CrossEntropyLoss()\n",
        "\n",
        "# Define ReduceLROnPlateau scheduler\n",
        "scheduler = ReduceLROnPlateau(optimizer, mode='min', factor=0.7, patience=3, verbose=True)\n",
        "\n",
        "for epoch in range(10):\n",
        "    # Train\n",
        "    model.train()\n",
        "    total_loss = 0\n",
        "    total_accuracy = 0\n",
        "    with tqdm(trainloader) as pbar:\n",
        "        for images, labels in pbar:\n",
        "            images = images.view(-1, 28 * 28).to(device)\n",
        "            labels = labels.to(device)\n",
        "            optimizer.zero_grad()\n",
        "            output = model(images)\n",
        "            loss = criterion(output, labels)\n",
        "            loss.backward()\n",
        "            optimizer.step()\n",
        "            accuracy = (output.argmax(dim=1) == labels).float().mean()\n",
        "            total_loss += loss.item()\n",
        "            total_accuracy += accuracy.item()\n",
        "            pbar.set_postfix(loss=loss.item(), accuracy=accuracy.item())\n",
        "    total_loss /= len(trainloader)\n",
        "    total_accuracy /= len(trainloader)\n",
        "\n",
        "    # Validation\n",
        "    model.eval()\n",
        "    val_loss = 0\n",
        "    val_accuracy = 0\n",
        "    with torch.no_grad():\n",
        "        for images, labels in valloader:\n",
        "            images = images.view(-1, 28 * 28).to(device)\n",
        "            labels = labels.to(device)\n",
        "            output = model(images)\n",
        "            val_loss += criterion(output, labels).item()\n",
        "            val_accuracy += (output.argmax(dim=1) == labels).float().mean().item()\n",
        "    val_loss /= len(valloader)\n",
        "    val_accuracy /= len(valloader)\n",
        "\n",
        "    # Step the scheduler based on validation loss\n",
        "    scheduler.step(val_loss)\n",
        "\n",
        "    print(f\"Epoch {epoch + 1}, Train Loss: {total_loss}, Train Accuracy: {total_accuracy}, Val Loss: {val_loss}, Val Accuracy: {val_accuracy}\")"
      ],
      "metadata": {
        "execution": {
          "iopub.status.busy": "2024-05-05T20:58:06.837101Z",
          "iopub.execute_input": "2024-05-05T20:58:06.837487Z",
          "iopub.status.idle": "2024-05-05T21:03:27.134351Z",
          "shell.execute_reply.started": "2024-05-05T20:58:06.837452Z",
          "shell.execute_reply": "2024-05-05T21:03:27.133085Z"
        },
        "trusted": true,
        "id": "lNeBRWUArwTJ",
        "outputId": "550a4644-bb90-4241-e357-dd2c48a7d77f"
      },
      "execution_count": null,
      "outputs": [
        {
          "name": "stderr",
          "text": "100%|██████████| 938/938 [00:28<00:00, 32.74it/s, accuracy=0.969, loss=0.187]\n",
          "output_type": "stream"
        },
        {
          "name": "stdout",
          "text": "Epoch 1, Train Loss: 0.39985033546461224, Train Accuracy: 0.8797641257995735, Val Loss: 0.254256592203335, Val Accuracy: 0.9242635350318471\n",
          "output_type": "stream"
        },
        {
          "name": "stderr",
          "text": "100%|██████████| 938/938 [00:28<00:00, 32.97it/s, accuracy=0.969, loss=0.0618]\n",
          "output_type": "stream"
        },
        {
          "name": "stdout",
          "text": "Epoch 2, Train Loss: 0.21326004391683062, Train Accuracy: 0.937450026652452, Val Loss: 0.1866328773907368, Val Accuracy: 0.9432722929936306\n",
          "output_type": "stream"
        },
        {
          "name": "stderr",
          "text": "100%|██████████| 938/938 [00:28<00:00, 32.61it/s, accuracy=1, loss=0.0466]    \n",
          "output_type": "stream"
        },
        {
          "name": "stdout",
          "text": "Epoch 3, Train Loss: 0.1537492910165713, Train Accuracy: 0.9541244669509595, Val Loss: 0.1872036379767926, Val Accuracy: 0.9430732484076433\n",
          "output_type": "stream"
        },
        {
          "name": "stderr",
          "text": "100%|██████████| 938/938 [00:28<00:00, 33.34it/s, accuracy=0.938, loss=0.361] \n",
          "output_type": "stream"
        },
        {
          "name": "stdout",
          "text": "Epoch 4, Train Loss: 0.12218124231101195, Train Accuracy: 0.9638359541577826, Val Loss: 0.1298399512117705, Val Accuracy: 0.9590963375796179\n",
          "output_type": "stream"
        },
        {
          "name": "stderr",
          "text": "100%|██████████| 938/938 [00:28<00:00, 33.18it/s, accuracy=0.906, loss=0.283] \n",
          "output_type": "stream"
        },
        {
          "name": "stdout",
          "text": "Epoch 5, Train Loss: 0.1010753822310377, Train Accuracy: 0.9693663379530917, Val Loss: 0.1297462544593794, Val Accuracy: 0.9600915605095541\n",
          "output_type": "stream"
        },
        {
          "name": "stderr",
          "text": "100%|██████████| 938/938 [00:28<00:00, 32.97it/s, accuracy=1, loss=0.0078]    \n",
          "output_type": "stream"
        },
        {
          "name": "stdout",
          "text": "Epoch 6, Train Loss: 0.08415830911530345, Train Accuracy: 0.9740471748400853, Val Loss: 0.1182966953511261, Val Accuracy: 0.9639729299363057\n",
          "output_type": "stream"
        },
        {
          "name": "stderr",
          "text": "100%|██████████| 938/938 [00:28<00:00, 32.45it/s, accuracy=1, loss=0.0133]    \n",
          "output_type": "stream"
        },
        {
          "name": "stdout",
          "text": "Epoch 7, Train Loss: 0.06898970465495516, Train Accuracy: 0.9791277985074627, Val Loss: 0.11010273604836926, Val Accuracy: 0.9659633757961783\n",
          "output_type": "stream"
        },
        {
          "name": "stderr",
          "text": "100%|██████████| 938/938 [00:29<00:00, 31.67it/s, accuracy=0.969, loss=0.0766]\n",
          "output_type": "stream"
        },
        {
          "name": "stdout",
          "text": "Epoch 8, Train Loss: 0.05821317545737007, Train Accuracy: 0.9815598347547975, Val Loss: 0.11406798961729547, Val Accuracy: 0.9656648089171974\n",
          "output_type": "stream"
        },
        {
          "name": "stderr",
          "text": "100%|██████████| 938/938 [00:28<00:00, 32.68it/s, accuracy=0.969, loss=0.115] \n",
          "output_type": "stream"
        },
        {
          "name": "stdout",
          "text": "Epoch 9, Train Loss: 0.0482356712479752, Train Accuracy: 0.9848414179104478, Val Loss: 0.10855315757302159, Val Accuracy: 0.9675557324840764\n",
          "output_type": "stream"
        },
        {
          "name": "stderr",
          "text": "100%|██████████| 938/938 [00:28<00:00, 32.86it/s, accuracy=1, loss=0.04]      \n",
          "output_type": "stream"
        },
        {
          "name": "stdout",
          "text": "Epoch 10, Train Loss: 0.04032294703637566, Train Accuracy: 0.9876898987206824, Val Loss: 0.11066264958843103, Val Accuracy: 0.9679538216560509\n",
          "output_type": "stream"
        }
      ]
    }
  ]
}